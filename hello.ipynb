{
 "cells": [
  {
   "cell_type": "markdown",
   "metadata": {},
   "source": [
    "# Unit1"
   ]
  },
  {
   "cell_type": "code",
   "execution_count": 2,
   "metadata": {},
   "outputs": [
    {
     "name": "stdout",
     "output_type": "stream",
     "text": [
      "Hello World\n"
     ]
    }
   ],
   "source": [
    "print(\"Hello World\")"
   ]
  },
  {
   "cell_type": "markdown",
   "metadata": {},
   "source": [
    "# Unit2"
   ]
  },
  {
   "cell_type": "markdown",
   "metadata": {},
   "source": [
    "basic variable"
   ]
  },
  {
   "cell_type": "code",
   "execution_count": 4,
   "metadata": {},
   "outputs": [],
   "source": [
    "a = 10\n",
    "b = 20\n",
    "c =  a + b"
   ]
  },
  {
   "cell_type": "code",
   "execution_count": 9,
   "metadata": {},
   "outputs": [],
   "source": [
    "firstname = \"Komkrit\"\n",
    "lastname = \"Aree\""
   ]
  },
  {
   "cell_type": "code",
   "execution_count": 10,
   "metadata": {},
   "outputs": [
    {
     "name": "stdout",
     "output_type": "stream",
     "text": [
      "Komkrit Aree\n"
     ]
    }
   ],
   "source": [
    "# print name and lastname\n",
    "print(firstname + \" \" + lastname)\n"
   ]
  },
  {
   "cell_type": "markdown",
   "metadata": {},
   "source": [
    "# Naming convention (programming)\n",
    "- PascalCase\n",
    "\t- ชื่อ class \n",
    "- camelCase\n",
    "\t- ชื่อตัวแปร ชื่อฟังก์ชัน\n",
    "- snake_case\n",
    "\t- ชื่อตัวแปร\n",
    "- Upper case\n",
    "\t- ชื่อตัวแปรคงที่"
   ]
  },
  {
   "cell_type": "code",
   "execution_count": 29,
   "metadata": {},
   "outputs": [],
   "source": [
    "firstName = \"Komkrit Aree\"\n",
    "\n",
    "def myFunction():\n",
    "\tprint(\"Hello from myFunction\")\n",
    "\n",
    "my_var = 10\n",
    "PI = 3.14\n",
    "isBoolean = True\n",
    "\n",
    "# create constant variable\n",
    "MY_CONSTANT = 100\n"
   ]
  },
  {
   "cell_type": "code",
   "execution_count": 31,
   "metadata": {},
   "outputs": [
    {
     "name": "stdout",
     "output_type": "stream",
     "text": [
      "<class 'int'>\n",
      "<class 'float'>\n",
      "<class 'bool'>\n",
      "<class 'str'>\n"
     ]
    }
   ],
   "source": [
    "print(type(a))\n",
    "print(type(PI))\n",
    "print(type(isBoolean))\n",
    "print(type(firstName))"
   ]
  },
  {
   "cell_type": "code",
   "execution_count": 23,
   "metadata": {},
   "outputs": [],
   "source": [
    "import constant\n",
    "constant.PI = 2.2"
   ]
  },
  {
   "cell_type": "code",
   "execution_count": 24,
   "metadata": {},
   "outputs": [
    {
     "data": {
      "text/plain": [
       "2.2"
      ]
     },
     "execution_count": 24,
     "metadata": {},
     "output_type": "execute_result"
    }
   ],
   "source": [
    "constant.PI"
   ]
  },
  {
   "cell_type": "markdown",
   "metadata": {},
   "source": [
    "# Comparison Operators"
   ]
  },
  {
   "cell_type": "code",
   "execution_count": 34,
   "metadata": {},
   "outputs": [
    {
     "name": "stdout",
     "output_type": "stream",
     "text": [
      "x:  100\n",
      "y:  200\n",
      "x==y False\n",
      "x!=y True\n",
      "x>y False\n",
      "x<y True\n",
      "x>=y False\n",
      "x<=y True\n"
     ]
    }
   ],
   "source": [
    "x = 100\n",
    "y = 200\n",
    "\n",
    "print(\"x: \", x)\n",
    "print(\"y: \", y)\n",
    "print(\"x==y\",x==y)\n",
    "print(\"x!=y\",x!=y)\n",
    "print(\"x>y\",x>y)\n",
    "print(\"x<y\",x<y)\n",
    "print(\"x>=y\",x>=y)\n",
    "print(\"x<=y\",x<=y)"
   ]
  },
  {
   "cell_type": "markdown",
   "metadata": {},
   "source": [
    "# Boonlean Opertors"
   ]
  },
  {
   "cell_type": "code",
   "execution_count": 35,
   "metadata": {},
   "outputs": [
    {
     "name": "stdout",
     "output_type": "stream",
     "text": [
      "x:  True\n",
      "y:  False\n",
      "not x:  False\n",
      "x and y:  False\n",
      "x or y:  True\n"
     ]
    }
   ],
   "source": [
    "x = True\n",
    "y = False\n",
    "\n",
    "print(\"x: \", x)\n",
    "print(\"y: \", y)\n",
    "print(\"not x: \", not x) # in c use !\n",
    "print(\"x and y: \", x and y) # in c use &&\n",
    "print(\"x or y: \", x or y) # in c use ||"
   ]
  }
 ],
 "metadata": {
  "kernelspec": {
   "display_name": "Python 3",
   "language": "python",
   "name": "python3"
  },
  "language_info": {
   "codemirror_mode": {
    "name": "ipython",
    "version": 3
   },
   "file_extension": ".py",
   "mimetype": "text/x-python",
   "name": "python",
   "nbconvert_exporter": "python",
   "pygments_lexer": "ipython3",
   "version": "3.11.7"
  }
 },
 "nbformat": 4,
 "nbformat_minor": 2
}
