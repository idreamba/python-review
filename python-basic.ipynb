{
 "cells": [
  {
   "cell_type": "markdown",
   "metadata": {},
   "source": [
    "# 🐍 สอนเสริม Python"
   ]
  },
  {
   "cell_type": "markdown",
   "metadata": {},
   "source": [
    "### Lists"
   ]
  },
  {
   "cell_type": "code",
   "execution_count": 6,
   "metadata": {},
   "outputs": [
    {
     "name": "stdout",
     "output_type": "stream",
     "text": [
      "python\n",
      "Komkrit Aree\n",
      "200\n",
      "python โดย Komkrit Aree มี 200 หน้า\n",
      "python\n",
      "Komkrit Aree\n",
      "200\n",
      "['orange', 'grape', 'apple', 'mango', 'banana']\n"
     ]
    }
   ],
   "source": [
    "# ลิสเป็นชนิดข้อมูลที่ใช้เก็บข้อมูลหลายๆ ตัว เหมือน array แต่สามารถเก็บข้อมูลที่มีชนิดข้อมูลต่างกันได้\n",
    "books = ['python','Komkrit Aree',200]\n",
    "\n",
    "# เข้าถึงข้อมูลในลิสโดยใช้ตำแหน่ง เริ่มต้นที่ 0\n",
    "print(books[0])\n",
    "print(books[1])\n",
    "print(books[2])\n",
    "\n",
    "# ใช้ format string ในการแสดงผล\n",
    "print(\"%s โดย %s มี %d หน้า\" % (books[0],books[1],books[2]))\n",
    "\n",
    "# การใช้ loop เพื่อแสดงข้อมูลในลิส\n",
    "for book in books:\n",
    "\tprint(book)\n",
    "\n",
    "# ในการจัดการข้อมูล ไม่ว่าจะเป็น List, Tuple, Set หรือ Dictionary จะมี 4 อย่าง\n",
    "# 1. เพิ่มข้อมูล, 2. ลบข้อมูล, 3. อัพเดทข้อมูล, 4. ค้นหาข้อมูล\n",
    "fruits = ['orange','apple','mango']\n",
    "# เพิ่มข้อมูลในลิส โดยใช้ append จะเพิ่มข้อมูลไปที่ตำแหน่งสุดท้าย\n",
    "fruits.append('banana')\n",
    "\n",
    "# เพิ่มข้อมูลในลิส โดยใช้ insert จะเพิ่มข้อมูลไปที่ตำแหน่งที่กำหนด\n",
    "fruits.insert(1,'grape')\n",
    "\n",
    "# การอัพเดทข้อมูลในลิส โดยใช้ตำแหน่ง\n",
    "fruits[1] = 'pineapple'\n",
    "\n",
    "# ลบข้อมูลในลิส โดยใช้ remove จะลบข้อมูลที่ตรงกับข้อมูลที่กำหนด\n",
    "fruits.remove('apple')\n",
    "\n",
    "print(fruits)"
   ]
  },
  {
   "cell_type": "markdown",
   "metadata": {},
   "source": [
    "#### การเข้าถึงข้อมูลใน List แบบใช้ [:]\n",
    "\n",
    "- a[start:end] # items start through end-1\n",
    "- a[start:]    # items start through the rest of the array\n",
    "- a[:end]      # items from the beginning through end-1\n",
    "- a[:]         # a copy of the whole array\n",
    "\n",
    "- a[start:end:step] # start through not past end, by step\n",
    "\n",
    "- a[-1]    # last item in the array\n",
    "- a[-2:]   # last two items in the array\n",
    "- a[:-2]   # everything except the last two items"
   ]
  },
  {
   "cell_type": "code",
   "execution_count": 25,
   "metadata": {},
   "outputs": [
    {
     "name": "stdout",
     "output_type": "stream",
     "text": [
      "6\n",
      "10\n",
      "10\n",
      "[5, 6, 7, 8, 9]\n",
      "[2, 3, 4, 5]\n",
      "[10, 9, 8, 7]\n"
     ]
    }
   ],
   "source": [
    "nums = [1,2,3,4,5,6,7,8,9,10]\n",
    "\n",
    "# ตำแหน่งนับจากซ้าย -> ขวา\n",
    "# [1,2,3,4,5,6,7,8,9,10]\n",
    "#  | | | | | | | | | |\n",
    "#  0,1,2,3,4,5,6,7,8,9\n",
    "\n",
    "# ตำแหน่งนับจากขวา -> ซ้าย (ตำแหน่งท้ายสุดเป็น -1)\n",
    "# [1,   2, 3, 4, 5, 6, 7, 8, 9, 10]\n",
    "#  |    |  |  |  |  |  |  |  |   |\n",
    "#  -10,-9,-8,-7,-6,-5,-4,-3,-2, -1\n",
    "\n",
    "# ต้องการเลข 6 ในลิส\n",
    "print(nums[5])\n",
    "\n",
    "# ต้องการเลข 10 ในลิส\n",
    "print(nums[9])\n",
    "print(nums[-1])\n",
    "\n",
    "# ต้องการเลข 5 ถึง 9\n",
    "# [start:extrude]\n",
    "print(nums[4:9])\n",
    "\n",
    "# ต้องการเลข 2 ถึง 5\n",
    "print(nums[1:5])\n",
    "\n",
    "# ต้องการเลข 10 ถึง 7\n",
    "print(nums[-1:-5:-1])\n",
    "\n",
    "\n"
   ]
  },
  {
   "cell_type": "markdown",
   "metadata": {},
   "source": []
  }
 ],
 "metadata": {
  "kernelspec": {
   "display_name": "Python 3",
   "language": "python",
   "name": "python3"
  },
  "language_info": {
   "codemirror_mode": {
    "name": "ipython",
    "version": 3
   },
   "file_extension": ".py",
   "mimetype": "text/x-python",
   "name": "python",
   "nbconvert_exporter": "python",
   "pygments_lexer": "ipython3",
   "version": "3.11.7"
  }
 },
 "nbformat": 4,
 "nbformat_minor": 2
}
